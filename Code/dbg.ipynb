{
 "cells": [
  {
   "cell_type": "code",
   "execution_count": 5,
   "metadata": {},
   "outputs": [],
   "source": [
    "import IPython.display as ipd\n",
    "import numpy as np\n",
    "import pandas as pd\n",
    "import h5py"
   ]
  },
  {
   "cell_type": "code",
   "execution_count": null,
   "metadata": {},
   "outputs": [],
   "source": [
    "from LibriSpeech_utt import *\n",
    "\n",
    "path = '/fs/scratch/PAS0774/Shanmukh/Databases/LibriSpeech/LibriSpeech/train-clean-100'\n",
    "T = 1.6\n",
    "libri_dataset = LibriSpeechUttDataset(path, T, return_vad=True)\n",
    "print(f\"Dataset Size: {len(libri_dataset)}\")\n",
    "#breakpoint()\n",
    "\n",
    "train_loader = DataLoader(libri_dataset, batch_size = 10, num_workers=0)\n",
    "\n",
    "for _batch_idx, val in enumerate(train_loader):\n",
    "    print(f\"sig: {val[0].shape}, {val[0].dtype}, {val[0].device}\")\n",
    "    if _batch_idx==0:\n",
    "        break"
   ]
  },
  {
   "cell_type": "code",
   "execution_count": null,
   "metadata": {},
   "outputs": [],
   "source": [
    "x = libri_dataset[5]\n",
    "ipd.Audio(x[0], rate=16000, autoplay=True)"
   ]
  },
  {
   "cell_type": "code",
   "execution_count": null,
   "metadata": {},
   "outputs": [],
   "source": [
    "# reading FSDNoisy_18k\n",
    "\n",
    "from FSDNoisy18k import *\n",
    "\n",
    "path = '/fs/scratch/PAS0774/Shanmukh/Databases/FSDnoisy18k.audio_train'\n",
    "T = 1.6\n",
    "noise_dataset = FSDNoisy18kUttDataset(path, T, return_vad=True)\n",
    "print(f\"Dataset Size: {len(noise_dataset)}\")\n",
    "\n",
    "train_loader = DataLoader(noise_dataset, batch_size = 1, num_workers=0)\n",
    "\n",
    "for _batch_idx, val in enumerate(train_loader):\n",
    "    print(f\"sig: {val[0].shape}, {val[0].dtype}, {val[0].device}\")\n",
    "    if _batch_idx==0:\n",
    "        break\n",
    "\t"
   ]
  },
  {
   "cell_type": "code",
   "execution_count": null,
   "metadata": {},
   "outputs": [],
   "source": [
    "x = noise_dataset[5]"
   ]
  },
  {
   "cell_type": "code",
   "execution_count": null,
   "metadata": {},
   "outputs": [],
   "source": [
    "x.shape"
   ]
  },
  {
   "cell_type": "code",
   "execution_count": null,
   "metadata": {},
   "outputs": [],
   "source": [
    "ipd.Audio(x[0,:].numpy(), rate=16000, autoplay=True)"
   ]
  },
  {
   "cell_type": "code",
   "execution_count": null,
   "metadata": {},
   "outputs": [],
   "source": [
    "from LibriSpeech_utt import *\n",
    "\n",
    "path = '/fs/scratch/PAS0774/Shanmukh/Databases/LibriSpeech/LibriSpeech/dev-clean'\n",
    "T = 1.6\n",
    "libri_dev_dataset = LibriSpeechUttDataset(path, T, return_vad=True)"
   ]
  },
  {
   "cell_type": "code",
   "execution_count": null,
   "metadata": {},
   "outputs": [],
   "source": [
    "snr = np.random.uniform(-6, 6, size=5000)\n",
    "\n",
    "spk_indices = np.random.randint(0,len(libri_dev_dataset), size=(5000, 1))\n",
    "noise_indices = np.random.randint(0,len(noise_dataset), size=(5000, 1))\n",
    "\n",
    "spk_files, noise_files = [],[]\n",
    "for idx in range(0, spk_indices.shape[0]):\n",
    "    spk_files.append(libri_dev_dataset.file_list[spk_indices[idx,0]])\n",
    "    noise_files.append(noise_dataset.file_list[noise_indices[idx,0]])\n",
    "    "
   ]
  },
  {
   "cell_type": "code",
   "execution_count": null,
   "metadata": {},
   "outputs": [],
   "source": [
    "rirs_path=[]\n",
    "for _idx in range(5000):\n",
    "    idx_folder = (_idx//5000)*5000\n",
    "    rirs_path.append(f\"/fs/scratch/PAA0005/Shanmukh/Habets_SignalAware_Doa/RIRs/Validation/Rirs_{idx_folder}/rirs_{_idx}.h5\")"
   ]
  },
  {
   "cell_type": "code",
   "execution_count": null,
   "metadata": {},
   "outputs": [],
   "source": [
    "mixing_dict = {\n",
    "    \"spk\": spk_files, \n",
    "    \"noi\": noise_files, \n",
    "    \"snr\": snr, \n",
    "    \"rirs\": rirs_path\n",
    "}"
   ]
  },
  {
   "cell_type": "code",
   "execution_count": null,
   "metadata": {},
   "outputs": [],
   "source": [
    "mixing_df = pd.DataFrame(mixing_dict)\n",
    "mixing_df.to_csv(\"validation_files_list.csv\", index=False)"
   ]
  },
  {
   "cell_type": "code",
   "execution_count": null,
   "metadata": {},
   "outputs": [],
   "source": [
    "mixing_df.iloc[0]"
   ]
  },
  {
   "cell_type": "code",
   "execution_count": null,
   "metadata": {},
   "outputs": [],
   "source": [
    "import torch\n",
    "v = torch.normal(0, 1, [4, 25600])"
   ]
  },
  {
   "cell_type": "code",
   "execution_count": null,
   "metadata": {},
   "outputs": [],
   "source": [
    "a = -10 * torch.rand(1) + 30"
   ]
  },
  {
   "cell_type": "code",
   "execution_count": null,
   "metadata": {},
   "outputs": [],
   "source": [
    "10**(a/10)"
   ]
  },
  {
   "cell_type": "code",
   "execution_count": null,
   "metadata": {},
   "outputs": [],
   "source": [
    "f = h5py.File(\"../Logs/tr_ex_1.h5\", 'r')\n",
    "\n",
    "mix_sph = np.array(f[\"mix_sph\"])\n",
    "\n",
    "dp_sph = np.array(f[\"spk\"][\"dp_signal\"])"
   ]
  },
  {
   "cell_type": "code",
   "execution_count": null,
   "metadata": {},
   "outputs": [],
   "source": [
    "mix_sph.dtype"
   ]
  },
  {
   "cell_type": "code",
   "execution_count": null,
   "metadata": {},
   "outputs": [],
   "source": [
    "ipd.Audio(mix_sph[0,:], rate=16000, autoplay=True)"
   ]
  },
  {
   "cell_type": "code",
   "execution_count": null,
   "metadata": {},
   "outputs": [],
   "source": [
    "ipd.Audio(dp_sph[0,:], rate=16000, autoplay=True)"
   ]
  },
  {
   "cell_type": "code",
   "execution_count": null,
   "metadata": {},
   "outputs": [],
   "source": [
    "ax = str(np.array(f[\"ex_gen_cfg\"][\"rirs\"]))"
   ]
  },
  {
   "cell_type": "code",
   "execution_count": null,
   "metadata": {},
   "outputs": [],
   "source": [
    "ax"
   ]
  },
  {
   "cell_type": "code",
   "execution_count": null,
   "metadata": {},
   "outputs": [],
   "source": [
    "np.array(f[\"ex_gen_cfg\"][\"snr\"])"
   ]
  },
  {
   "cell_type": "markdown",
   "metadata": {},
   "source": []
  },
  {
   "cell_type": "code",
   "execution_count": null,
   "metadata": {},
   "outputs": [],
   "source": [
    "#list of files\n",
    "\n",
    "path = \"/fs/scratch/PAA0005/Shanmukh/Habets_SignalAware_Doa/Signals/Train/**/*.h5\""
   ]
  },
  {
   "cell_type": "code",
   "execution_count": null,
   "metadata": {},
   "outputs": [],
   "source": [
    "from glob import glob\n",
    "\n",
    "files_list = glob(path)"
   ]
  },
  {
   "cell_type": "code",
   "execution_count": null,
   "metadata": {},
   "outputs": [],
   "source": [
    "import re\n",
    "sorted(files_list, key=lambda s: int(re.search(r'\\d+', s[-8:]).group()))\n"
   ]
  },
  {
   "cell_type": "code",
   "execution_count": null,
   "metadata": {},
   "outputs": [],
   "source": [
    "#dbg\n",
    "import os\n",
    "import glob\n",
    "import re\n",
    "import torch\n",
    "from network_input_output import *\n",
    "from torch.utils.data import Dataset, DataLoader\n",
    "import h5py\n",
    "import numpy as np\n",
    "from dataset import *\n",
    "\n",
    "root_path = \"/fs/scratch/PAA0005/Shanmukh/Habets_SignalAware_Doa/Signals/Validation_correction/\"\n",
    "transforms = [SignalAwareDoA_features(frame_len=512, frame_shift=256, doa_resolution = 5, array_type=None, array_setup=None, fs=16000)]\n",
    "train_dataset = SignalAwareDoADataset(root_path, transforms)"
   ]
  },
  {
   "cell_type": "code",
   "execution_count": null,
   "metadata": {},
   "outputs": [],
   "source": [
    "train_dl = DataLoader(train_dataset, batch_size=16, num_workers=10)\n",
    "\n",
    "for idx, ex in enumerate(train_dl):\n",
    "    mix_sph_mag, mix_sph_ph, tgt_spk_cs, spk_doas = ex\n",
    "    #print(f\"{mix_sph_mag.shape}, {mix_sph_ph.shape}, {tgt_spk_cs.shape}, {spk_doas}\")\n",
    "    #print(f\"{mix_sph_mag.dtype}, {mix_sph_ph.dtype}, {tgt_spk_cs.dtype}, {spk_doas.dtype}\")\n",
    "    if torch.isnan(mix_sph_mag).any():\n",
    "        print(f\"idx: {idx}, {torch.where(torch.isnan(mix_sph_mag))}\")\n",
    "    else:\n",
    "        print(f\"idx: {idx} .....\")"
   ]
  },
  {
   "cell_type": "code",
   "execution_count": null,
   "metadata": {},
   "outputs": [],
   "source": [
    "b_idx = 5\n",
    "ex_idx = 14\n",
    "mix_sph_mag, mix_sph_ph, tgt_spk_cs, spk_doas = train_dataset[16*b_idx + ex_idx]\n",
    "print(f\"{torch.where(torch.isnan(mix_sph_mag))}\")"
   ]
  },
  {
   "cell_type": "code",
   "execution_count": null,
   "metadata": {},
   "outputs": [],
   "source": [
    "#output: torch signal\n",
    "def compute_vad(source_signal: 'Array ( sig_len)', frame_size: 'int (samples) ', frame_shift: 'int (samples)', fs: int = 16000):\n",
    "    import webrtcvad\n",
    "    vad = webrtcvad.Vad()\n",
    "    agressiveness=3\n",
    "    vad.set_mode(agressiveness)\n",
    "\n",
    "    #sig_vad = np.zeros_like(source_signal)\n",
    "    sig_vad = []\n",
    "    sig_size = source_signal.shape[-1]\n",
    "\n",
    "    for frame_idx, frm_strt in enumerate(range(0, sig_size-frame_size +1, frame_shift)):\n",
    "        frame = source_signal[frm_strt:frm_strt + frame_size] #source_signal[frame_idx * vad_frame_len: (frame_idx + 1) * vad_frame_len]\n",
    "        frame_bytes = (frame * 32767).astype('int16').tobytes()\n",
    "        #sig_vad[frm_strt:frm_strt + frame_size] = vad.is_speech(frame_bytes, fs)\n",
    "        sig_vad.append(vad.is_speech(frame_bytes, fs))\n",
    "\n",
    "    return torch.tensor(np.array(sig_vad))"
   ]
  },
  {
   "cell_type": "markdown",
   "metadata": {},
   "source": [
    "# Dataset debugging\n",
    "1. Compute Fraction of speech frames in the training utterances: Histogram plot\n",
    "2. DOA histogram plot of training example"
   ]
  },
  {
   "cell_type": "code",
   "execution_count": null,
   "metadata": {},
   "outputs": [],
   "source": [
    "#dbg\n",
    "import os\n",
    "import glob\n",
    "import re\n",
    "import torch\n",
    "from network_input_output import *\n",
    "from torch.utils.data import Dataset, DataLoader\n",
    "import h5py\n",
    "import numpy as np\n",
    "from dataset import *\n",
    "\n",
    "root_path = \"/fs/scratch/PAA0005/Shanmukh/Habets_SignalAware_Doa/Signals/Train_correction/\"\n",
    "transforms = [SignalAwareDoA_features(frame_len=512, frame_shift=256, doa_resolution = 5, array_type=None, array_setup=None, fs=16000)]\n",
    "train_dataset = SignalAwareDoADataset(root_path, transforms=None)\n",
    "\n",
    "train_dl = DataLoader(train_dataset, batch_size=1, num_workers=1)\n",
    "sph_frm_perc_list = []\n",
    "spk_doa_cls_list = []\n",
    "for idx, ex in enumerate(train_dl):\n",
    "    mix_sph, spk_dp_signal, spk_doa, noi_doa = ex\n",
    "    #computing speech fraction frames\n",
    "    if 0:\n",
    "        sig_vad = compute_vad(spk_dp_signal[0,0,:].numpy(), 320, 160, 16000)\n",
    "        sph_frm_perc = torch.round(torch.mean(sig_vad*1.0)*100, decimals=1)\n",
    "        #print(f\"idx: {idx}, sph_frms: {sph_frm_perc:.2f} %\")\n",
    "        sph_frm_perc_list.append(sph_frm_perc)\n",
    "    else:\n",
    "        spk_doa_cls_list.append(spk_doa//5)\n",
    "\n",
    "   "
   ]
  },
  {
   "cell_type": "code",
   "execution_count": null,
   "metadata": {},
   "outputs": [],
   "source": [
    "import matplotlib.pyplot as plt\n",
    "plt.hist(spk_doa_cls_list, 37)"
   ]
  },
  {
   "cell_type": "code",
   "execution_count": null,
   "metadata": {},
   "outputs": [],
   "source": [
    "spk_doa_cls_list"
   ]
  },
  {
   "cell_type": "code",
   "execution_count": null,
   "metadata": {},
   "outputs": [],
   "source": [
    "mix_sph, spk_dp_signal, spk_doa, noi_doa = train_dataset[1]"
   ]
  },
  {
   "cell_type": "code",
   "execution_count": null,
   "metadata": {},
   "outputs": [],
   "source": [
    "sig_vad = compute_vad(spk_dp_signal[0,:].numpy(), 320, 160, 16000)"
   ]
  },
  {
   "cell_type": "code",
   "execution_count": null,
   "metadata": {},
   "outputs": [],
   "source": [
    "torch.round(torch.mean(sig_vad*1.0)*100, decimals=1)"
   ]
  },
  {
   "cell_type": "code",
   "execution_count": null,
   "metadata": {},
   "outputs": [],
   "source": [
    "import matplotlib.pyplot as plt\n",
    "\n",
    "plt.hist(sph_frm_perc_list, 11)\n"
   ]
  },
  {
   "cell_type": "code",
   "execution_count": null,
   "metadata": {},
   "outputs": [],
   "source": [
    "plt.plot(sph_frm_perc_list)"
   ]
  },
  {
   "cell_type": "code",
   "execution_count": null,
   "metadata": {},
   "outputs": [],
   "source": [
    "x = torch.rand(2,3,4)\n",
    "x[0,:,:].shape\n",
    "print(x[0,:,:])\n",
    "print(torch.permute(x[0,:,:],[1,0]))"
   ]
  },
  {
   "cell_type": "code",
   "execution_count": null,
   "metadata": {},
   "outputs": [],
   "source": [
    "import torch\n",
    "from torch import nn\n",
    "from torch.nn import functional as F\n",
    "\n",
    "loss = nn.BCELoss()\n",
    "\n",
    "input = torch.rand(16,37)\n",
    "\n",
    "output = F.one_hot(torch.arange(0,16), 37)"
   ]
  },
  {
   "cell_type": "code",
   "execution_count": null,
   "metadata": {},
   "outputs": [],
   "source": [
    "output.dtype"
   ]
  },
  {
   "cell_type": "code",
   "execution_count": null,
   "metadata": {},
   "outputs": [],
   "source": [
    "loss(input, output.to(torch.float))"
   ]
  },
  {
   "cell_type": "code",
   "execution_count": null,
   "metadata": {},
   "outputs": [],
   "source": [
    "_loss = 0\n",
    "for i in range(16):\n",
    "    for j in range(37):\n",
    "        _loss += output[i,j]*torch.log(input[i,j]) + (1-output[i,j])*torch.log(1-input[i,j]) "
   ]
  },
  {
   "cell_type": "code",
   "execution_count": null,
   "metadata": {},
   "outputs": [],
   "source": [
    "_loss/(16*37)"
   ]
  },
  {
   "cell_type": "code",
   "execution_count": 10,
   "metadata": {},
   "outputs": [],
   "source": [
    "# Test Mixtures check\n",
    "\n",
    "from create_test_mix import *\n",
    "import pandas as pd\n",
    "\n",
    "df = pd.read_csv(\"test_files_list.csv\")\n",
    "\n",
    "\n",
    "config_file = \"data_gen.yaml\"\n",
    "mode = \"TestMeasuredRIR\"\n",
    "with open(config_file,\"r\") as f:\n",
    "    exp_config = yaml.safe_load(f)\n",
    "\n",
    "_dict = CreateTestScenario(exp_config[mode], 4).create_scenario( df.iloc[2], int(1.6*16000), 4)"
   ]
  },
  {
   "cell_type": "code",
   "execution_count": 11,
   "metadata": {},
   "outputs": [
    {
     "data": {
      "text/html": [
       "\n",
       "                <audio  controls=\"controls\" autoplay=\"autoplay\">\n",
       "                    <source src=\"data:audio/wav;base64,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\" type=\"audio/wav\" />\n",
       "                    Your browser does not support the audio element.\n",
       "                </audio>\n",
       "              "
      ],
      "text/plain": [
       "<IPython.lib.display.Audio object>"
      ]
     },
     "execution_count": 11,
     "metadata": {},
     "output_type": "execute_result"
    }
   ],
   "source": [
    "ipd.Audio(_dict[\"mix_sph\"][0,:].numpy(), rate=16000, autoplay=True)"
   ]
  },
  {
   "cell_type": "code",
   "execution_count": null,
   "metadata": {},
   "outputs": [],
   "source": []
  }
 ],
 "metadata": {
  "kernelspec": {
   "display_name": "Python 3",
   "language": "python",
   "name": "python3"
  },
  "language_info": {
   "codemirror_mode": {
    "name": "ipython",
    "version": 3
   },
   "file_extension": ".py",
   "mimetype": "text/x-python",
   "name": "python",
   "nbconvert_exporter": "python",
   "pygments_lexer": "ipython3",
   "version": "3.9.12"
  }
 },
 "nbformat": 4,
 "nbformat_minor": 2
}
